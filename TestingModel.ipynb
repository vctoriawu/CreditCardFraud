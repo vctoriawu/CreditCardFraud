{
 "cells": [
  {
   "cell_type": "code",
   "execution_count": 42,
   "metadata": {},
   "outputs": [],
   "source": [
    "from keras.models import load_model, model_from_json\n",
    "import numpy as np\n",
    "import pandas as pd\n",
    "import matplotlib.pyplot as plt\n",
    "from sklearn.metrics import roc_curve\n",
    "from sklearn.metrics import roc_auc_score"
   ]
  },
  {
   "cell_type": "code",
   "execution_count": 43,
   "metadata": {},
   "outputs": [
    {
     "name": "stdout",
     "output_type": "stream",
     "text": [
      "Loaded model from disk\n"
     ]
    }
   ],
   "source": [
    "# Load in model\n",
    "# load json and create model\n",
    "json_file = open('model.json', 'r')\n",
    "loaded_model_json = json_file.read()\n",
    "json_file.close()\n",
    "loaded_model = model_from_json(loaded_model_json)\n",
    "# load weights into new model\n",
    "loaded_model.load_weights(\"model.h5\")\n",
    "print(\"Loaded model from disk\")"
   ]
  },
  {
   "cell_type": "code",
   "execution_count": 44,
   "metadata": {},
   "outputs": [],
   "source": [
    "test_features = np.load(\"TestingData.npy\")\n",
    "test_labels = np.load(\"TestingLabels.npy\")"
   ]
  },
  {
   "cell_type": "code",
   "execution_count": 45,
   "metadata": {},
   "outputs": [
    {
     "name": "stdout",
     "output_type": "stream",
     "text": [
      "56962/56962 [==============================] - 1s 25us/step\n",
      "\n",
      "\n"
     ]
    }
   ],
   "source": [
    "# Get model accuracy \n",
    "loaded_model.compile(loss='binary_crossentropy', optimizer='adam', metrics=[\"accuracy\"])\n",
    "scores = loaded_model.evaluate(test_features, test_labels)\n",
    "print('\\n')"
   ]
  },
  {
   "cell_type": "code",
   "execution_count": 46,
   "metadata": {},
   "outputs": [],
   "source": [
    "# Get predictions from model\n",
    "output = loaded_model.predict_classes(test_features)\n",
    "probs = loaded_model.predict_proba(test_features)"
   ]
  },
  {
   "cell_type": "code",
   "execution_count": 58,
   "metadata": {},
   "outputs": [
    {
     "name": "stdout",
     "output_type": "stream",
     "text": [
      "accuracy= 0.9994557775359011\n",
      "\n",
      "\n",
      "Predicted      0   1\n",
      "Actual              \n",
      "0.0        56846  13\n",
      "1.0           18  85\n",
      "\n",
      "\n",
      "Num Fraud: 103\n",
      "Precision:  0.8673469387755102\n",
      "Recall/Sensitivity:  0.8252427184466019\n",
      "Specificity:  0.9997713642519214\n",
      "F1 Score:  0.8457711442786069\n",
      "\n",
      "Individual cost of false negatives:\n",
      "[0.76, 0.77, 276.17, 1.0, 1.0, 8.0, 480.72, 31.91, 0.0, 5.09, 1.52, 634.3, 549.06, 720.8, 1809.68, 1354.25, 3.22, 0.76]\n"
     ]
    }
   ],
   "source": [
    "print('accuracy=',scores[1])\n",
    "print('\\n')\n",
    "\n",
    "# Show confusion matrix\n",
    "y_actu = pd.Series(test_labels, name='Actual')\n",
    "y_pred = pd.Series(np.ndarray.flatten(output), name='Predicted')\n",
    "df_confusion = pd.crosstab(y_actu, y_pred)\n",
    "print(df_confusion)\n",
    "print ('\\n')\n",
    "\n",
    "TN = df_confusion[0][0]\n",
    "TP = df_confusion[1][1]\n",
    "FN = df_confusion[0][1]\n",
    "FP = df_confusion[1][0]\n",
    "\n",
    "\n",
    "num_positives = (np.count_nonzero(y_actu))\n",
    "num_negatives = y_actu.size - num_positives\n",
    "precision = TP/(TP + FP)\n",
    "recall = TP/(TP + FN)\n",
    "specificity = TN/(TN + FP)\n",
    "f1 = 2*((precision*recall)/(precision+recall))\n",
    "print(\"Num Fraud: {}\".format(num_positives))\n",
    "#print(\"True Negative: {}\".format(TN/num_negatives))\n",
    "#print(\"True Positive: {}\".format(TP/num_positives))\n",
    "#print(\"False Negative: {}\".format(FN/(TP + FN)))\n",
    "#print(\"False Positive: {}\".format(FP/(FP + TN)))\n",
    "print(\"Precision: \", precision)\n",
    "print(\"Recall/Sensitivity: \", recall)\n",
    "print(\"Specificity: \", specificity)\n",
    "print(\"F1 Score: \", f1)\n",
    "\n",
    "# Get incorrctly predicted\n",
    "indices = [i for i,v in enumerate(output) if output[i]!=test_labels[i] and output[i] == 0]\n",
    "incorrect = [test_features[i, 29] for i in indices]\n",
    "print(\"\\nIndividual cost of false negatives:\\n{}\".format(incorrect))"
   ]
  },
  {
   "cell_type": "code",
   "execution_count": 48,
   "metadata": {},
   "outputs": [],
   "source": [
    "def plot_roc_curve(fpr, tpr):\n",
    "    plt.plot(fpr, tpr, color='orange', label='ROC')\n",
    "    plt.plot([0, 1], [0, 1], color='darkblue', linestyle='--')\n",
    "    plt.xlabel('False Positive Rate')\n",
    "    plt.ylabel('True Positive Rate')\n",
    "    plt.title('Receiver Operating Characteristic (ROC) Curve')\n",
    "    plt.legend()\n",
    "    plt.show()"
   ]
  },
  {
   "cell_type": "code",
   "execution_count": 49,
   "metadata": {},
   "outputs": [
    {
     "name": "stdout",
     "output_type": "stream",
     "text": [
      "AUC: 0.95\n"
     ]
    }
   ],
   "source": [
    "auc = roc_auc_score(test_labels, probs)\n",
    "print('AUC: %.2f' % auc)"
   ]
  },
  {
   "cell_type": "code",
   "execution_count": 50,
   "metadata": {},
   "outputs": [
    {
     "data": {
      "image/png": "[encoded data removed]",
      "text/plain": [
       "<Figure size 432x288 with 1 Axes>"
      ]
     },
     "metadata": {
      "needs_background": "light"
     },
     "output_type": "display_data"
    }
   ],
   "source": [
    "fpr, tpr, thresholds = roc_curve(test_labels, probs)\n",
    "plot_roc_curve(fpr, tpr)"
   ]
  },
  {
   "cell_type": "code",
   "execution_count": null,
   "metadata": {},
   "outputs": [],
   "source": []
  }
 ],
 "metadata": {
  "kernelspec": {
   "display_name": "Python 3",
   "language": "python",
   "name": "python3"
  },
  "language_info": {
   "codemirror_mode": {
    "name": "ipython",
    "version": 3
   },
   "file_extension": ".py",
   "mimetype": "text/x-python",
   "name": "python",
   "nbconvert_exporter": "python",
   "pygments_lexer": "ipython3",
   "version": "3.6.6"
  }
 },
 "nbformat": 4,
 "nbformat_minor": 2
}
