{
 "cells": [
  {
   "cell_type": "code",
   "execution_count": 1,
   "metadata": {
    "pycharm": {
     "is_executing": false,
     "metadata": false,
     "name": "#%%\n"
    }
   },
   "outputs": [
    {
     "name": "stderr",
     "output_type": "stream",
     "text": [
      "Using TensorFlow backend.\n"
     ]
    }
   ],
   "source": [
    "import keras.backend as K\n",
    "import matplotlib.pyplot as plt\n",
    "import numpy as np\n",
    "import pandas as pd\n",
    "from keras.layers import Dense\n",
    "from keras.layers import Dropout\n",
    "from keras.models import Sequential\n",
    "from sklearn.metrics import roc_auc_score\n",
    "from sklearn.metrics import roc_curve\n",
    "from sklearn.model_selection import train_test_split\n",
    "from sklearn.preprocessing import RobustScaler\n",
    "from sklearn.utils import class_weight\n",
    "\n"
   ]
  },
  {
   "cell_type": "markdown",
   "metadata": {
    "pycharm": {
     "metadata": false
    }
   },
   "source": [
    "# Import data"
   ]
  },
  {
   "cell_type": "code",
   "execution_count": 9,
   "metadata": {
    "pycharm": {
     "is_executing": false,
     "metadata": false,
     "name": "#%%\n"
    }
   },
   "outputs": [],
   "source": [
    "# Store the input data in a dataframe\n",
    "fraud_data = pd.read_csv(\"creditcard.csv\")\n"
   ]
  },
  {
   "cell_type": "markdown",
   "metadata": {
    "pycharm": {
     "metadata": false
    }
   },
   "source": [
    "# Preprocess data"
   ]
  },
  {
   "cell_type": "code",
   "execution_count": 43,
   "metadata": {
    "pycharm": {
     "is_executing": false,
     "metadata": false,
     "name": "#%%\n"
    }
   },
   "outputs": [
    {
     "data": {
      "text/html": [
       "<div>\n",
       "<style scoped>\n",
       "    .dataframe tbody tr th:only-of-type {\n",
       "        vertical-align: middle;\n",
       "    }\n",
       "\n",
       "    .dataframe tbody tr th {\n",
       "        vertical-align: top;\n",
       "    }\n",
       "\n",
       "    .dataframe thead th {\n",
       "        text-align: right;\n",
       "    }\n",
       "</style>\n",
       "<table border=\"1\" class=\"dataframe\">\n",
       "  <thead>\n",
       "    <tr style=\"text-align: right;\">\n",
       "      <th></th>\n",
       "      <th>scaled_time</th>\n",
       "      <th>V1</th>\n",
       "      <th>V2</th>\n",
       "      <th>V3</th>\n",
       "      <th>V4</th>\n",
       "      <th>V5</th>\n",
       "      <th>V6</th>\n",
       "      <th>V7</th>\n",
       "      <th>V8</th>\n",
       "      <th>V9</th>\n",
       "      <th>...</th>\n",
       "      <th>V21</th>\n",
       "      <th>V22</th>\n",
       "      <th>V23</th>\n",
       "      <th>V24</th>\n",
       "      <th>V25</th>\n",
       "      <th>V26</th>\n",
       "      <th>V27</th>\n",
       "      <th>V28</th>\n",
       "      <th>Amount</th>\n",
       "      <th>Class</th>\n",
       "    </tr>\n",
       "  </thead>\n",
       "  <tbody>\n",
       "    <tr>\n",
       "      <th>0</th>\n",
       "      <td>0.436119</td>\n",
       "      <td>1.659400</td>\n",
       "      <td>0.030687</td>\n",
       "      <td>0.216035</td>\n",
       "      <td>3.931988</td>\n",
       "      <td>-0.282385</td>\n",
       "      <td>0.499405</td>\n",
       "      <td>-0.373986</td>\n",
       "      <td>0.096752</td>\n",
       "      <td>-0.461964</td>\n",
       "      <td>...</td>\n",
       "      <td>0.262464</td>\n",
       "      <td>0.659620</td>\n",
       "      <td>0.169421</td>\n",
       "      <td>1.154898</td>\n",
       "      <td>-0.268064</td>\n",
       "      <td>-0.044211</td>\n",
       "      <td>0.000158</td>\n",
       "      <td>-0.000761</td>\n",
       "      <td>104.26</td>\n",
       "      <td>0</td>\n",
       "    </tr>\n",
       "    <tr>\n",
       "      <th>1</th>\n",
       "      <td>0.744757</td>\n",
       "      <td>-0.705866</td>\n",
       "      <td>0.751561</td>\n",
       "      <td>1.107973</td>\n",
       "      <td>0.160060</td>\n",
       "      <td>-0.744155</td>\n",
       "      <td>0.256062</td>\n",
       "      <td>-0.518433</td>\n",
       "      <td>0.488345</td>\n",
       "      <td>1.729342</td>\n",
       "      <td>...</td>\n",
       "      <td>-0.189143</td>\n",
       "      <td>0.216038</td>\n",
       "      <td>-0.005518</td>\n",
       "      <td>-0.121670</td>\n",
       "      <td>-0.593673</td>\n",
       "      <td>0.559921</td>\n",
       "      <td>0.080099</td>\n",
       "      <td>-0.050877</td>\n",
       "      <td>12.72</td>\n",
       "      <td>0</td>\n",
       "    </tr>\n",
       "    <tr>\n",
       "      <th>2</th>\n",
       "      <td>0.310365</td>\n",
       "      <td>2.102723</td>\n",
       "      <td>-0.064331</td>\n",
       "      <td>-1.465900</td>\n",
       "      <td>0.340946</td>\n",
       "      <td>0.233706</td>\n",
       "      <td>-0.762994</td>\n",
       "      <td>-0.066726</td>\n",
       "      <td>-0.245579</td>\n",
       "      <td>2.353592</td>\n",
       "      <td>...</td>\n",
       "      <td>0.072891</td>\n",
       "      <td>0.511258</td>\n",
       "      <td>0.014242</td>\n",
       "      <td>0.382284</td>\n",
       "      <td>0.300290</td>\n",
       "      <td>-0.468796</td>\n",
       "      <td>-0.036342</td>\n",
       "      <td>-0.060379</td>\n",
       "      <td>1.00</td>\n",
       "      <td>0</td>\n",
       "    </tr>\n",
       "    <tr>\n",
       "      <th>3</th>\n",
       "      <td>-0.006532</td>\n",
       "      <td>-0.452415</td>\n",
       "      <td>-0.975171</td>\n",
       "      <td>1.860540</td>\n",
       "      <td>-1.234296</td>\n",
       "      <td>-0.917268</td>\n",
       "      <td>-1.012777</td>\n",
       "      <td>-0.926766</td>\n",
       "      <td>-0.001787</td>\n",
       "      <td>-2.302606</td>\n",
       "      <td>...</td>\n",
       "      <td>-0.211618</td>\n",
       "      <td>-0.497652</td>\n",
       "      <td>0.240393</td>\n",
       "      <td>0.313328</td>\n",
       "      <td>-0.586195</td>\n",
       "      <td>-0.319509</td>\n",
       "      <td>0.143384</td>\n",
       "      <td>0.157308</td>\n",
       "      <td>31.00</td>\n",
       "      <td>0</td>\n",
       "    </tr>\n",
       "    <tr>\n",
       "      <th>4</th>\n",
       "      <td>0.688236</td>\n",
       "      <td>-0.304870</td>\n",
       "      <td>0.937227</td>\n",
       "      <td>-0.488325</td>\n",
       "      <td>-0.630074</td>\n",
       "      <td>1.279189</td>\n",
       "      <td>-0.786910</td>\n",
       "      <td>1.125149</td>\n",
       "      <td>-0.369006</td>\n",
       "      <td>0.342341</td>\n",
       "      <td>...</td>\n",
       "      <td>-0.455419</td>\n",
       "      <td>-0.814172</td>\n",
       "      <td>0.244162</td>\n",
       "      <td>0.374622</td>\n",
       "      <td>-0.310943</td>\n",
       "      <td>0.099776</td>\n",
       "      <td>0.087707</td>\n",
       "      <td>-0.114391</td>\n",
       "      <td>1.98</td>\n",
       "      <td>0</td>\n",
       "    </tr>\n",
       "  </tbody>\n",
       "</table>\n",
       "<p>5 rows × 31 columns</p>\n",
       "</div>"
      ],
      "text/plain": [
       "   scaled_time        V1        V2        V3        V4        V5        V6  \\\n",
       "0     0.436119  1.659400  0.030687  0.216035  3.931988 -0.282385  0.499405   \n",
       "1     0.744757 -0.705866  0.751561  1.107973  0.160060 -0.744155  0.256062   \n",
       "2     0.310365  2.102723 -0.064331 -1.465900  0.340946  0.233706 -0.762994   \n",
       "3    -0.006532 -0.452415 -0.975171  1.860540 -1.234296 -0.917268 -1.012777   \n",
       "4     0.688236 -0.304870  0.937227 -0.488325 -0.630074  1.279189 -0.786910   \n",
       "\n",
       "         V7        V8        V9  ...       V21       V22       V23       V24  \\\n",
       "0 -0.373986  0.096752 -0.461964  ...  0.262464  0.659620  0.169421  1.154898   \n",
       "1 -0.518433  0.488345  1.729342  ... -0.189143  0.216038 -0.005518 -0.121670   \n",
       "2 -0.066726 -0.245579  2.353592  ...  0.072891  0.511258  0.014242  0.382284   \n",
       "3 -0.926766 -0.001787 -2.302606  ... -0.211618 -0.497652  0.240393  0.313328   \n",
       "4  1.125149 -0.369006  0.342341  ... -0.455419 -0.814172  0.244162  0.374622   \n",
       "\n",
       "        V25       V26       V27       V28  Amount  Class  \n",
       "0 -0.268064 -0.044211  0.000158 -0.000761  104.26      0  \n",
       "1 -0.593673  0.559921  0.080099 -0.050877   12.72      0  \n",
       "2  0.300290 -0.468796 -0.036342 -0.060379    1.00      0  \n",
       "3 -0.586195 -0.319509  0.143384  0.157308   31.00      0  \n",
       "4 -0.310943  0.099776  0.087707 -0.114391    1.98      0  \n",
       "\n",
       "[5 rows x 31 columns]"
      ]
     },
     "execution_count": 43,
     "metadata": {},
     "output_type": "execute_result"
    }
   ],
   "source": [
    "# shuffle the dataframe so that the inputs are in a random order\n",
    "df = fraud_data.sample(frac=1).reset_index(drop=True)\n",
    "\n",
    "# Scale the time between -1 and 1, since the rest of the features are scaled\n",
    "robust_scaler = RobustScaler()\n",
    "scaled_time = robust_scaler.fit_transform(df['Time'].values.reshape(-1,1))\n",
    "df.drop(['Time'], axis=1, inplace=True) #  Remove unscalled time\n",
    "\n",
    "# Insert scalded time into beginning of df\n",
    "df.insert(0, 'scaled_time', scaled_time)\n",
    "\n",
    "# Show the result\n",
    "df.head()\n"
   ]
  },
  {
   "cell_type": "code",
   "execution_count": 154,
   "metadata": {
    "pycharm": {
     "is_executing": false,
     "metadata": false,
     "name": "#%%\n"
    }
   },
   "outputs": [],
   "source": [
    "# Split the data into training (80%) and testing (20%)\n",
    "train, test = train_test_split(df, test_size=0.2)\n",
    "\n",
    "# Split data into features and labels (only using the first 29 columns as 30 is the amount and 31 is the label\n",
    "train_features = np.array(train.values[:,:29])\n",
    "train_labels = np.array(train.values[:,-1])\n",
    "test_features = np.array(test.values[:,:29])\n",
    "test_labels = np.array(test.values[:,-1])\n",
    "train_amounts = np.array(train.values[:,-2])\n",
    "test_amounts = np.array(test.values[:,-2])\n",
    "\n"
   ]
  },
  {
   "cell_type": "markdown",
   "metadata": {
    "pycharm": {
     "metadata": false,
     "name": "#%% md\n"
    }
   },
   "source": [
    "# Create our custom loss fxn for cost sensitive learning\n",
    "\n",
    "The code was adapted from https://github.com/roman807/Fraud-Detection Nov 28th, 2019\n",
    "\n",
    "Keras only allows does not allow any other arguments except for the true and predicted labels to be passed into the loss\n",
    "function.\n",
    "\n",
    "As such, we adapted roman807s code to pass in the value of each transaction for each sample as a string. The label is\n",
    "passed in before the decimal, and the cost of a false negative is passed in after the decimal. \n",
    "\n",
    "The custom loss function is wrapped in another function that takes the cost of a false positive, true positive, true \n",
    "negative. The cost is calculated by applying the cost of the fn, tn, fp, tp. The variables below are the ones that\n",
    "provided the best performance. There is no penalty for predicting correctly. The penalty for falsely predicting positively\n",
    "is \"13\", and falsely predicting negative is the transaction amount, as that is how much that would be lost.   "
   ]
  },
  {
   "cell_type": "code",
   "execution_count": 121,
   "metadata": {
    "pycharm": {
     "metadata": false,
     "name": "#%%\n"
    }
   },
   "outputs": [],
   "source": [
    "cost_FN = train_amounts\n",
    "cost_FP = 13\n",
    "cost_TP = 0\n",
    "cost_TN = 0\n",
    "\n",
    "# Create y Input from roman807\n",
    "def create_y_input(y_label, cost_fn):\n",
    "    label_string = pd.Series(y_label).reset_index(drop=True).apply(lambda x: str(int(x)))\n",
    "    cost_fn_string = pd.Series(cost_fn).reset_index(drop=True).apply(lambda x: '0' *\n",
    "                        (5-len(str(int(x)))) + str(int(x)))\n",
    "    return label_string + '.' + cost_fn_string\n",
    "\n",
    "# custom loss adapted from roman807\n",
    "def custom_loss(c_FP, c_TP, c_TN):\n",
    "    def loss_function(y_input, y_pred):\n",
    "        min = 0.0001\n",
    "        \n",
    "        # Calculate the true value by removing the decimals from the y input string created earlier\n",
    "        y_true = K.round(y_input)\n",
    "        \n",
    "        # Extract the false negative cost from the y input string created earlier\n",
    "        cost_fn = (y_input - y_true) * 1e6\n",
    "        \n",
    "        # Calculate predicted value, making sure it does not equal 0 or 1\n",
    "        y_pred = K.minimum(1.0 - min, K.maximum(0.0 + min, y_pred))\n",
    "        \n",
    "        # Calculate the cost of the prediction from the cost of misclassified defined earlier\n",
    "        cost_fn = y_true * (K.log(y_pred) * cost_fn)\n",
    "        cost_tp =  y_true * (K.log(1 - y_pred) * c_TP)\n",
    "        cost_fp = (1 - y_true) * (K.log(1 - y_pred) * c_FP)\n",
    "        cost_tn = (1 - y_true) * (K.log(y_pred) * c_TN)\n",
    "        total_cost = cost_fn + cost_tp + cost_fp + cost_tn\n",
    "        return - K.mean(total_cost, axis=-1)\n",
    "    return loss_function"
   ]
  },
  {
   "cell_type": "markdown",
   "metadata": {
    "pycharm": {
     "metadata": false
    }
   },
   "source": [
    "# Set how much we care about each mis-classification data"
   ]
  },
  {
   "cell_type": "code",
   "execution_count": 122,
   "metadata": {
    "pycharm": {
     "is_executing": false,
     "metadata": false,
     "name": "#%%\n"
    }
   },
   "outputs": [],
   "source": [
    "# Because the set is highly imbalanced, we weight the minority set more than the majority set when misclassified\n",
    "class_weights = class_weight.compute_class_weight(\"balanced\", np.unique(train_labels), train_labels)\n"
   ]
  },
  {
   "cell_type": "markdown",
   "metadata": {
    "pycharm": {
     "is_executing": false,
     "metadata": false,
     "name": "#%% md\n"
    }
   },
   "source": [
    "# Create the model"
   ]
  },
  {
   "cell_type": "code",
   "execution_count": 191,
   "metadata": {
    "pycharm": {
     "is_executing": false,
     "metadata": false,
     "name": "#%%\n"
    }
   },
   "outputs": [],
   "source": [
    "model = Sequential()\n",
    "model.add(Dense(units=100, kernel_initializer='uniform', input_dim=train_features.shape[1], activation='relu'))\n",
    "model.add(Dropout(.2))\n",
    "model.add(Dense(units=100, kernel_initializer='uniform', activation='relu'))\n",
    "model.add(Dropout(.2))\n",
    "model.add(Dense(1, kernel_initializer='uniform', activation='sigmoid'))\n",
    "\n",
    "model.compile(optimizer='adam', metrics=['accuracy'], loss=custom_loss(cost_FP, cost_TP, cost_TN))\n"
   ]
  },
  {
   "cell_type": "markdown",
   "metadata": {
    "pycharm": {
     "metadata": false,
     "name": "#%% md\n"
    }
   },
   "source": [
    "# Train the model"
   ]
  },
  {
   "cell_type": "code",
   "execution_count": 192,
   "metadata": {
    "pycharm": {
     "is_executing": false,
     "metadata": false,
     "name": "#%%\n"
    }
   },
   "outputs": [
    {
     "name": "stdout",
     "output_type": "stream",
     "text": [
      "Train on 182276 samples, validate on 45569 samples\n",
      "Epoch 1/25\n",
      "182276/182276 [==============================] - 7s 39us/step - loss: 3.2461 - accuracy: 0.0585 - val_loss: 1.0797 - val_accuracy: 0.0610\n",
      "Epoch 2/25\n",
      "182276/182276 [==============================] - 7s 37us/step - loss: 1.6899 - accuracy: 0.0584 - val_loss: 2.2927 - val_accuracy: 0.0610\n",
      "Epoch 3/25\n",
      "182276/182276 [==============================] - 6s 35us/step - loss: 1.5296 - accuracy: 0.0585 - val_loss: 2.6269 - val_accuracy: 0.0610\n",
      "Epoch 4/25\n",
      "182276/182276 [==============================] - 6s 35us/step - loss: 2.4740 - accuracy: 0.0584 - val_loss: 2.4305 - val_accuracy: 0.0610\n",
      "Epoch 5/25\n",
      "182276/182276 [==============================] - 7s 36us/step - loss: 1.4202 - accuracy: 0.0584 - val_loss: 2.2364 - val_accuracy: 0.0610\n",
      "Epoch 6/25\n",
      "182276/182276 [==============================] - 6s 35us/step - loss: 1.2531 - accuracy: 0.0585 - val_loss: 1.1378 - val_accuracy: 0.0610\n",
      "Epoch 7/25\n",
      "182276/182276 [==============================] - 6s 35us/step - loss: 0.8449 - accuracy: 0.0585 - val_loss: 1.8289 - val_accuracy: 0.0610\n",
      "Epoch 8/25\n",
      "182276/182276 [==============================] - 6s 34us/step - loss: 1.2127 - accuracy: 0.0584 - val_loss: 1.3046 - val_accuracy: 0.0610\n",
      "Epoch 9/25\n",
      "182276/182276 [==============================] - 6s 33us/step - loss: 0.9753 - accuracy: 0.0584 - val_loss: 1.8435 - val_accuracy: 0.0610\n",
      "Epoch 10/25\n",
      "182276/182276 [==============================] - 6s 35us/step - loss: 0.8258 - accuracy: 0.0584 - val_loss: 2.0303 - val_accuracy: 0.0610\n",
      "Epoch 11/25\n",
      "182276/182276 [==============================] - 6s 35us/step - loss: 0.5264 - accuracy: 0.0585 - val_loss: 1.7732 - val_accuracy: 0.0610\n",
      "Epoch 12/25\n",
      "182276/182276 [==============================] - 6s 35us/step - loss: 1.2853 - accuracy: 0.0584 - val_loss: 2.1267 - val_accuracy: 0.0610\n",
      "Epoch 13/25\n",
      "182276/182276 [==============================] - 6s 35us/step - loss: 0.5901 - accuracy: 0.0585 - val_loss: 2.2549 - val_accuracy: 0.0610\n",
      "Epoch 14/25\n",
      "182276/182276 [==============================] - 6s 35us/step - loss: 0.4844 - accuracy: 0.0585 - val_loss: 2.7990 - val_accuracy: 0.0610\n",
      "Epoch 15/25\n",
      "182276/182276 [==============================] - 6s 35us/step - loss: 0.5750 - accuracy: 0.0585 - val_loss: 3.1169 - val_accuracy: 0.0610\n",
      "Epoch 16/25\n",
      "182276/182276 [==============================] - 6s 34us/step - loss: 0.7822 - accuracy: 0.0584 - val_loss: 3.2748 - val_accuracy: 0.0610\n",
      "Epoch 17/25\n",
      "182276/182276 [==============================] - 6s 35us/step - loss: 0.6176 - accuracy: 0.0585 - val_loss: 2.3903 - val_accuracy: 0.0610\n",
      "Epoch 18/25\n",
      "182276/182276 [==============================] - 6s 35us/step - loss: 0.5083 - accuracy: 0.0585 - val_loss: 2.7089 - val_accuracy: 0.0610\n",
      "Epoch 19/25\n",
      "182276/182276 [==============================] - 7s 38us/step - loss: 0.5410 - accuracy: 0.0585 - val_loss: 3.1692 - val_accuracy: 0.0610\n",
      "Epoch 20/25\n",
      "182276/182276 [==============================] - 7s 37us/step - loss: 0.2750 - accuracy: 0.0585 - val_loss: 3.2874 - val_accuracy: 0.0610\n",
      "Epoch 21/25\n",
      "182276/182276 [==============================] - 6s 36us/step - loss: 0.3753 - accuracy: 0.0585 - val_loss: 2.5920 - val_accuracy: 0.0610\n",
      "Epoch 22/25\n",
      "182276/182276 [==============================] - 7s 36us/step - loss: 1.1228 - accuracy: 0.0584 - val_loss: 3.3964 - val_accuracy: 0.0610\n",
      "Epoch 23/25\n",
      "182276/182276 [==============================] - 6s 34us/step - loss: 0.3319 - accuracy: 0.0585 - val_loss: 3.6258 - val_accuracy: 0.0610\n",
      "Epoch 24/25\n",
      "182276/182276 [==============================] - 6s 35us/step - loss: 0.6677 - accuracy: 0.0584 - val_loss: 2.9503 - val_accuracy: 0.0610\n",
      "Epoch 25/25\n",
      "182276/182276 [==============================] - 6s 35us/step - loss: 0.3691 - accuracy: 0.0585 - val_loss: 3.2494 - val_accuracy: 0.0610\n"
     ]
    }
   ],
   "source": [
    "# Create our custom input labels to pass to keras with the cost of a false negative \n",
    "y_input = create_y_input(train_labels, cost_FN).apply(float)\n",
    "train_history = model.fit(train_features, y_input, batch_size=50, epochs=25, verbose=1, validation_split=0.2, class_weight=class_weights)\n",
    "\n",
    "\n"
   ]
  },
  {
   "cell_type": "code",
   "execution_count": 193,
   "metadata": {
    "pycharm": {
     "is_executing": false,
     "metadata": false,
     "name": "#%%\n"
    }
   },
   "outputs": [
    {
     "name": "stdout",
     "output_type": "stream",
     "text": [
      "56962/56962 [==============================] - 1s 16us/step\n",
      "\n",
      "\n",
      "accuracy= 0.9982970952987671\n",
      "Predicted      0   1\n",
      "Actual              \n",
      "0.0        56779  79\n",
      "1.0           18  86\n",
      "Num Fraud: 104\n",
      "Precision:  0.5212121212121212\n",
      "Recall/Sensitivity:  0.8269230769230769\n",
      "Specificity:  0.9986105737099441\n",
      "F1 Score:  0.6394052044609665\n",
      "Individual cost of false negatives:\n",
      "[1.0, 0.76, 30.14, 357.95, 7.06, 0.0, 22.04, 1.0, 2.0, 1.0, 19.95, 3.14, 1.0, 33.76, 323.77, 1.0, 1.52, 23.36]\n"
     ]
    }
   ],
   "source": [
    "\n",
    "# Get model accuracy \n",
    "scores = model.evaluate(test_features, test_labels)\n",
    "print('\\n')\n",
    "print('accuracy=',scores[1])\n",
    "\n",
    "# Get predictions from model\n",
    "output = model.predict_classes(test_features)\n",
    "\n",
    "# Show confusion matrix\n",
    "y_actu = pd.Series(test_labels, name='Actual')\n",
    "y_pred = pd.Series(np.ndarray.flatten(output), name='Predicted')\n",
    "df_confusion = pd.crosstab(y_actu, y_pred)\n",
    "print(df_confusion)\n",
    "\n",
    "num_positives =  (np.count_nonzero(y_actu))\n",
    "num_negatives = y_actu.size - num_positives\n",
    "\n",
    "TN = df_confusion[0][0]\n",
    "TP = df_confusion[1][1]\n",
    "FN = df_confusion[0][1]\n",
    "FP = df_confusion[1][0]\n",
    "\n",
    "precision = TP/(TP + FP)\n",
    "recall = TP/(TP + FN)\n",
    "specificity = TN/(TN + FP)\n",
    "f1 = 2*((precision*recall)/(precision+recall))\n",
    "print(\"Num Fraud: {}\".format(num_positives))\n",
    "\n",
    "print(\"Precision: \", precision)\n",
    "print(\"Recall/Sensitivity: \", recall)\n",
    "print(\"Specificity: \", specificity)\n",
    "print(\"F1 Score: \", f1)\n",
    "\n",
    "# Get incorrctly predicted\n",
    "indices = [i for i,v in enumerate(output) if output[i]!=test_labels[i] and output[i] == 0]\n",
    "incorrect = [test_amounts[i] for i in indices ]\n",
    "print(\"Individual cost of false negatives:\\n{}\".format(incorrect))\n"
   ]
  },
  {
   "cell_type": "code",
   "execution_count": 194,
   "metadata": {
    "pycharm": {
     "is_executing": true,
     "metadata": false,
     "name": "#%%\n"
    }
   },
   "outputs": [
    {
     "data": {
      "image/png": "[encoded data removed]",
      "text/plain": [
       "<Figure size 432x288 with 1 Axes>"
      ]
     },
     "metadata": {
      "needs_background": "light"
     },
     "output_type": "display_data"
    },
    {
     "name": "stdout",
     "output_type": "stream",
     "text": [
      "AUC: 0.98\n"
     ]
    },
    {
     "data": {
      "image/png": "[encoded data removed]",
      "text/plain": [
       "<Figure size 432x288 with 1 Axes>"
      ]
     },
     "metadata": {
      "needs_background": "light"
     },
     "output_type": "display_data"
    }
   ],
   "source": [
    "# Function to graph training history\n",
    "def show_train_history(train_history,train, validation):\n",
    "    plt.plot(train_history.history[train])\n",
    "    plt.plot(train_history.history[validation])\n",
    "    plt.title('Train History')\n",
    "    plt.ylabel(train)\n",
    "    plt.xlabel('Epoch')\n",
    "    plt.legend(['train', 'validation'], loc='best')\n",
    "    plt.show()\n",
    "\n",
    "show_train_history(train_history,'loss', 'val_loss')\n",
    "\n",
    "\n",
    "def plot_roc_curve(fpr, tpr):\n",
    "    plt.plot(fpr, tpr, color='orange', label='ROC')\n",
    "    plt.plot([0, 1], [0, 1], color='darkblue', linestyle='--')\n",
    "    plt.xlabel('False Positive Rate')\n",
    "    plt.ylabel('True Positive Rate')\n",
    "    plt.title('Receiver Operating Characteristic (ROC) Curve')\n",
    "    plt.legend()\n",
    "    plt.show()\n",
    "\n",
    "probs = model.predict_proba(test_features)\n",
    "auc = roc_auc_score(test_labels, probs)\n",
    "print('AUC: %.2f' % auc)\n",
    "fpr, tpr, thresholds = roc_curve(test_labels, probs)\n",
    "plot_roc_curve(fpr, tpr)\n"
   ]
  },
  {
   "cell_type": "code",
   "execution_count": null,
   "metadata": {},
   "outputs": [],
   "source": []
  }
 ],
 "metadata": {
  "kernelspec": {
   "display_name": "Python 3",
   "language": "python",
   "name": "python3"
  },
  "language_info": {
   "codemirror_mode": {
    "name": "ipython",
    "version": 3
   },
   "file_extension": ".py",
   "mimetype": "text/x-python",
   "name": "python",
   "nbconvert_exporter": "python",
   "pygments_lexer": "ipython3",
   "version": "3.7.4"
  },
  "stem_cell": {
   "cell_type": "raw",
   "metadata": {
    "pycharm": {
     "metadata": false
    }
   },
   "source": ""
  }
 },
 "nbformat": 4,
 "nbformat_minor": 1
}
